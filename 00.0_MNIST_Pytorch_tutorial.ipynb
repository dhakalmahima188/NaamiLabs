{
 "cells": [
  {
   "cell_type": "markdown",
   "metadata": {},
   "source": [
    "## Import Torch"
   ]
  },
  {
   "cell_type": "code",
   "execution_count": 1,
   "metadata": {},
   "outputs": [],
   "source": [
    "### Main torch library\n",
    "import torch\n",
    "### For Neural Network\n",
    "import torch.nn as nn"
   ]
  },
  {
   "cell_type": "code",
   "execution_count": 2,
   "metadata": {},
   "outputs": [],
   "source": [
    "### You can find dataset there\n",
    "from torch.utils import data\n",
    "from torchvision import datasets"
   ]
  },
  {
   "cell_type": "markdown",
   "metadata": {},
   "source": [
    "## Example Matrix Multiplication"
   ]
  },
  {
   "cell_type": "code",
   "execution_count": 3,
   "metadata": {},
   "outputs": [
    {
     "data": {
      "text/plain": [
       "tensor([[ 0.1823, -0.1864, -1.5830, -0.2532],\n",
       "        [ 1.7456,  0.0064,  0.5646,  0.4628],\n",
       "        [-0.3011,  0.1822, -0.9295,  0.7538],\n",
       "        [ 0.6005, -0.1963, -0.1070, -2.1512]])"
      ]
     },
     "execution_count": 3,
     "metadata": {},
     "output_type": "execute_result"
    }
   ],
   "source": [
    "A = torch.randn(4,4)\n",
    "A"
   ]
  },
  {
   "cell_type": "code",
   "execution_count": 4,
   "metadata": {},
   "outputs": [
    {
     "data": {
      "text/plain": [
       "tensor([[-1.1660,  0.1597, -0.8276],\n",
       "        [ 0.8261, -0.2000, -1.4585],\n",
       "        [ 0.2002,  1.2404,  1.1246],\n",
       "        [ 0.6597, -0.5062,  1.4632]])"
      ]
     },
     "execution_count": 4,
     "metadata": {},
     "output_type": "execute_result"
    }
   ],
   "source": [
    "B = torch.randn(4, 3)\n",
    "B"
   ]
  },
  {
   "cell_type": "code",
   "execution_count": 5,
   "metadata": {},
   "outputs": [
    {
     "data": {
      "text/plain": [
       "tensor([[-0.8505, -1.7690, -2.0297],\n",
       "        [-1.6117,  0.7436, -0.1419],\n",
       "        [ 0.8127, -1.6191,  0.0409],\n",
       "        [-2.3028,  1.0914, -3.4786]])"
      ]
     },
     "execution_count": 5,
     "metadata": {},
     "output_type": "execute_result"
    }
   ],
   "source": [
    "C = torch.matmul(A, B)\n",
    "C"
   ]
  },
  {
   "cell_type": "code",
   "execution_count": 6,
   "metadata": {},
   "outputs": [
    {
     "data": {
      "text/plain": [
       "torch.Size([4, 3])"
      ]
     },
     "execution_count": 6,
     "metadata": {},
     "output_type": "execute_result"
    }
   ],
   "source": [
    "C.shape"
   ]
  },
  {
   "cell_type": "markdown",
   "metadata": {},
   "source": [
    "## Load Dataset"
   ]
  },
  {
   "cell_type": "code",
   "execution_count": 7,
   "metadata": {},
   "outputs": [],
   "source": [
    "from torchvision import transforms\n",
    "to_tensor = transforms.ToTensor()"
   ]
  },
  {
   "cell_type": "code",
   "execution_count": 8,
   "metadata": {},
   "outputs": [],
   "source": [
    "train_data = datasets.MNIST(root=\"./datasets\", train=True, download=True, transform=to_tensor)"
   ]
  },
  {
   "cell_type": "code",
   "execution_count": 9,
   "metadata": {},
   "outputs": [],
   "source": [
    "test_data = datasets.MNIST(root=\"./datasets\", train=False, download=True, transform=to_tensor)"
   ]
  },
  {
   "cell_type": "code",
   "execution_count": 10,
   "metadata": {},
   "outputs": [
    {
     "data": {
      "text/plain": [
       "torch.Size([60000, 28, 28])"
      ]
     },
     "execution_count": 10,
     "metadata": {},
     "output_type": "execute_result"
    }
   ],
   "source": [
    "train_data.data.shape"
   ]
  },
  {
   "cell_type": "code",
   "execution_count": 11,
   "metadata": {},
   "outputs": [
    {
     "data": {
      "text/plain": [
       "torch.Size([10000, 28, 28])"
      ]
     },
     "execution_count": 11,
     "metadata": {},
     "output_type": "execute_result"
    }
   ],
   "source": [
    "test_data.data.shape"
   ]
  },
  {
   "cell_type": "code",
   "execution_count": 12,
   "metadata": {},
   "outputs": [],
   "source": [
    "import matplotlib.pyplot as plt"
   ]
  },
  {
   "cell_type": "code",
   "execution_count": 13,
   "metadata": {},
   "outputs": [
    {
     "data": {
      "text/plain": [
       "(<matplotlib.image.AxesImage at 0x12716ba10>, tensor(5))"
      ]
     },
     "execution_count": 13,
     "metadata": {},
     "output_type": "execute_result"
    },
    {
     "data": {
      "image/png": "[encoded data removed]",
      "text/plain": [
       "<Figure size 640x480 with 1 Axes>"
      ]
     },
     "metadata": {},
     "output_type": "display_data"
    }
   ],
   "source": [
    "plt.imshow(train_data.data[0]), train_data.targets[0]"
   ]
  },
  {
   "cell_type": "code",
   "execution_count": 14,
   "metadata": {},
   "outputs": [],
   "source": [
    "train_data_loader = data.DataLoader(train_data, shuffle=True, batch_size=32)\n",
    "test_data_loader = data.DataLoader(test_data, shuffle=True, batch_size=32)"
   ]
  },
  {
   "cell_type": "code",
   "execution_count": 15,
   "metadata": {},
   "outputs": [
    {
     "name": "stdout",
     "output_type": "stream",
     "text": [
      "torch.Size([32, 1, 28, 28])\n",
      "torch.Size([32, 784])\n"
     ]
    }
   ],
   "source": [
    "for inputs, label in train_data_loader:\n",
    "    print(inputs.shape)\n",
    "    print(inputs.reshape(32, 784).shape)\n",
    "    break"
   ]
  },
  {
   "cell_type": "code",
   "execution_count": 16,
   "metadata": {},
   "outputs": [],
   "source": [
    "model = nn.Sequential(\n",
    "    nn.Linear(28*28, 500),\n",
    "    nn.ReLU(),\n",
    "    nn.Linear(500, 100),\n",
    "    nn.ReLU(),\n",
    "    nn.Linear(100, 10)\n",
    ")"
   ]
  },
  {
   "cell_type": "code",
   "execution_count": 17,
   "metadata": {},
   "outputs": [
    {
     "data": {
      "text/plain": [
       "Sequential(\n",
       "  (0): Linear(in_features=784, out_features=500, bias=True)\n",
       "  (1): ReLU()\n",
       "  (2): Linear(in_features=500, out_features=100, bias=True)\n",
       "  (3): ReLU()\n",
       "  (4): Linear(in_features=100, out_features=10, bias=True)\n",
       ")"
      ]
     },
     "execution_count": 17,
     "metadata": {},
     "output_type": "execute_result"
    }
   ],
   "source": [
    "model"
   ]
  },
  {
   "cell_type": "code",
   "execution_count": 18,
   "metadata": {},
   "outputs": [
    {
     "name": "stdout",
     "output_type": "stream",
     "text": [
      "Outputs\n",
      "tensor([1, 6, 1, 6, 1, 2, 2, 1, 2, 2, 2, 2, 2, 2, 3, 1, 6, 2, 2, 2, 2, 2, 1, 1,\n",
      "        1, 2, 2, 6, 2, 6, 6, 1])\n",
      "Targets\n",
      "tensor([1, 7, 0, 1, 5, 1, 0, 4, 7, 4, 1, 8, 9, 7, 0, 1, 0, 5, 5, 7, 3, 7, 8, 3,\n",
      "        2, 2, 2, 4, 7, 4, 7, 4])\n"
     ]
    }
   ],
   "source": [
    "for inputs, label in test_data_loader:\n",
    "    bs = inputs.shape[0]\n",
    "    \n",
    "    inputs = inputs.reshape(bs, 28*28)\n",
    "    outputs = model(inputs)\n",
    "    out = torch.argmax(outputs, dim=1)\n",
    "    print(\"Outputs\")\n",
    "    print(out)\n",
    "    print(\"Targets\")\n",
    "    print(label)\n",
    "    break"
   ]
  },
  {
   "cell_type": "markdown",
   "metadata": {},
   "source": [
    "## Optimizer"
   ]
  },
  {
   "cell_type": "code",
   "execution_count": 19,
   "metadata": {},
   "outputs": [],
   "source": [
    "optimizer = torch.optim.Adam(model.parameters(), lr=0.001)\n",
    "error_function = nn.CrossEntropyLoss()"
   ]
  },
  {
   "cell_type": "markdown",
   "metadata": {},
   "source": [
    "## Training Loop"
   ]
  },
  {
   "cell_type": "code",
   "execution_count": 20,
   "metadata": {},
   "outputs": [],
   "source": [
    "# train_loss = []\n",
    "# test_loss = []\n",
    "# train_accuracy = []\n",
    "test_accuracy = []\n",
    "EPOCHS = 50"
   ]
  },
  {
   "cell_type": "code",
   "execution_count": 21,
   "metadata": {},
   "outputs": [],
   "source": [
    "### Find accuracy of Test Dataset\n",
    "count = 0\n",
    "accuracy = 0\n",
    "for inputs, label in test_data_loader:\n",
    "    ### change shape of input\n",
    "    bs = inputs.shape[0]\n",
    "    inputs = inputs.reshape(bs, 28*28)\n",
    "\n",
    "    ### predict the output\n",
    "    outputs = model(inputs)\n",
    "    out = torch.argmax(outputs, dim=1)\n",
    "\n",
    "    accuracy += (out == label).type(torch.float).sum()\n",
    "    count += bs\n",
    "test_accuracy.append(accuracy/count)"
   ]
  },
  {
   "cell_type": "code",
   "execution_count": 22,
   "metadata": {},
   "outputs": [
    {
     "data": {
      "text/plain": [
       "[tensor(0.1203)]"
      ]
     },
     "execution_count": 22,
     "metadata": {},
     "output_type": "execute_result"
    }
   ],
   "source": [
    "test_accuracy"
   ]
  },
  {
   "cell_type": "code",
   "execution_count": 23,
   "metadata": {},
   "outputs": [
    {
     "name": "stdout",
     "output_type": "stream",
     "text": [
      "Training EPOCH 0\n",
      "Training EPOCH 1\n",
      "Training EPOCH 2\n",
      "Training EPOCH 3\n",
      "Training EPOCH 4\n",
      "Training EPOCH 5\n",
      "Training EPOCH 6\n",
      "Training EPOCH 7\n",
      "Training EPOCH 8\n",
      "Training EPOCH 9\n",
      "Training EPOCH 10\n",
      "Training EPOCH 11\n",
      "Training EPOCH 12\n",
      "Training EPOCH 13\n",
      "Training EPOCH 14\n",
      "Training EPOCH 15\n",
      "Training EPOCH 16\n",
      "Training EPOCH 17\n",
      "Training EPOCH 18\n",
      "Training EPOCH 19\n",
      "Training EPOCH 20\n",
      "Training EPOCH 21\n",
      "Training EPOCH 22\n",
      "Training EPOCH 23\n",
      "Training EPOCH 24\n",
      "Training EPOCH 25\n",
      "Training EPOCH 26\n",
      "Training EPOCH 27\n",
      "Training EPOCH 28\n",
      "Training EPOCH 29\n",
      "Training EPOCH 30\n",
      "Training EPOCH 31\n",
      "Training EPOCH 32\n",
      "Training EPOCH 33\n",
      "Training EPOCH 34\n",
      "Training EPOCH 35\n",
      "Training EPOCH 36\n",
      "Training EPOCH 37\n",
      "Training EPOCH 38\n"
     ]
    }
   ],
   "source": [
    "for epoch in range(EPOCHS):\n",
    "    print(\"Training EPOCH\", epoch)\n",
    "    for inputs, label in train_data_loader:\n",
    "        ### change shape of input\n",
    "        bs = inputs.shape[0]\n",
    "        inputs = inputs.reshape(bs, 28*28)\n",
    "\n",
    "        ### predict the output\n",
    "        outputs = model(inputs)\n",
    "\n",
    "        ### find the error\n",
    "        error = error_function(outputs, label)\n",
    "\n",
    "        ### backpropagate\n",
    "        optimizer.zero_grad()\n",
    "        error.backward()\n",
    "        optimizer.step()\n",
    "    \n",
    "    ### Find accuracy of Test Dataset\n",
    "    count = 0\n",
    "    accuracy = 0\n",
    "    for inputs, label in test_data_loader:\n",
    "        ### change shape of input\n",
    "        bs = inputs.shape[0]\n",
    "        inputs = inputs.reshape(bs, 28*28)\n",
    "\n",
    "        ### predict the output\n",
    "        outputs = model(inputs)\n",
    "        out = torch.argmax(outputs, dim=1)\n",
    "        \n",
    "        accuracy += (out == label).type(torch.float).sum()\n",
    "        count += bs\n",
    "    test_accuracy.append(accuracy/count)\n",
    "    plt.plot(test_accuracy)\n",
    "    \n",
    "    \n",
    "#     print(\"Outputs\")\n",
    "#     print(out)\n",
    "#     print(\"Targets\")\n",
    "#     print(label)\n",
    "#     break"
   ]
  },
  {
   "cell_type": "code",
   "execution_count": null,
   "metadata": {},
   "outputs": [
    {
     "data": {
      "text/plain": [
       "[<matplotlib.lines.Line2D at 0x7ff968118b10>]"
      ]
     },
     "execution_count": 85,
     "metadata": {},
     "output_type": "execute_result"
    },
    {
     "data": {
      "image/png": "[encoded data removed]",
      "text/plain": [
       "<Figure size 432x288 with 1 Axes>"
      ]
     },
     "metadata": {
      "needs_background": "light"
     },
     "output_type": "display_data"
    }
   ],
   "source": [
    "plt.plot(test_accuracy)"
   ]
  },
  {
   "cell_type": "code",
   "execution_count": null,
   "metadata": {},
   "outputs": [
    {
     "data": {
      "text/plain": [
       "[tensor(0.0707),\n",
       " tensor(0.9683),\n",
       " tensor(0.9757),\n",
       " tensor(0.9753),\n",
       " tensor(0.9801)]"
      ]
     },
     "execution_count": 80,
     "metadata": {},
     "output_type": "execute_result"
    }
   ],
   "source": [
    "test_accuracy"
   ]
  },
  {
   "cell_type": "code",
   "execution_count": null,
   "metadata": {},
   "outputs": [],
   "source": []
  }
 ],
 "metadata": {
  "kernelspec": {
   "display_name": "Python 3",
   "language": "python",
   "name": "python3"
  },
  "language_info": {
   "codemirror_mode": {
    "name": "ipython",
    "version": 3
   },
   "file_extension": ".py",
   "mimetype": "text/x-python",
   "name": "python",
   "nbconvert_exporter": "python",
   "pygments_lexer": "ipython3",
   "version": "3.11.3"
  }
 },
 "nbformat": 4,
 "nbformat_minor": 4
}
